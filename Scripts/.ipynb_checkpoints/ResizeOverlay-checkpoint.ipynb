{
 "cells": [
  {
   "cell_type": "code",
   "execution_count": 3,
   "metadata": {},
   "outputs": [],
   "source": [
    "from PIL import Image\n",
    "import pytesseract\n",
    "import cv2\n",
    "import numpy as np\n",
    "import os"
   ]
  },
  {
   "cell_type": "markdown",
   "metadata": {},
   "source": [
    "# Visualize Offset"
   ]
  },
  {
   "cell_type": "code",
   "execution_count": 12,
   "metadata": {},
   "outputs": [],
   "source": [
    "filled = cv2.imread(r\"C:\\Users\\dso1222\\Documents\\TextRecognition\\Forms\\ImgOffset\\claim76.jpg\")\n",
    "blank = cv2.imread(r\"C:\\Users\\dso1222\\Documents\\TextRecognition\\Forms\\BlankClaimCropped.ppm\")"
   ]
  },
  {
   "cell_type": "code",
   "execution_count": 13,
   "metadata": {
    "scrolled": true
   },
   "outputs": [
    {
     "data": {
      "text/plain": [
       "(2276, 1700, 3)"
      ]
     },
     "execution_count": 13,
     "metadata": {},
     "output_type": "execute_result"
    }
   ],
   "source": [
    "filled.shape"
   ]
  },
  {
   "cell_type": "code",
   "execution_count": 14,
   "metadata": {},
   "outputs": [
    {
     "data": {
      "text/plain": [
       "(2003, 1569, 3)"
      ]
     },
     "execution_count": 14,
     "metadata": {},
     "output_type": "execute_result"
    }
   ],
   "source": [
    "blank.shape"
   ]
  },
  {
   "cell_type": "code",
   "execution_count": 17,
   "metadata": {},
   "outputs": [],
   "source": [
    "filled_resized = cv2.resize(filled, (blank.shape[1], blank.shape[0]))"
   ]
  },
  {
   "cell_type": "code",
   "execution_count": 18,
   "metadata": {},
   "outputs": [],
   "source": [
    "# diff = cv2.absdiff(img1_resized, img2)\n",
    "diff = cv2.absdiff(blank, filled_resized)\n",
    "cv2.namedWindow('diff', cv2.WINDOW_NORMAL)\n",
    "cv2.resizeWindow('diff', 1000, 2000)\n",
    "cv2.imshow('diff',diff)\n",
    "cv2.waitKey(0)\n",
    "cv2.destroyAllWindows()"
   ]
  },
  {
   "cell_type": "markdown",
   "metadata": {},
   "source": [
    "# Save comparison blank to skew"
   ]
  },
  {
   "cell_type": "code",
   "execution_count": 4,
   "metadata": {},
   "outputs": [],
   "source": [
    "path = r'C:\\Users\\dso1222\\Documents\\TextRecognition\\Forms'"
   ]
  },
  {
   "cell_type": "code",
   "execution_count": 5,
   "metadata": {},
   "outputs": [],
   "source": [
    "blank = cv2.imread(r\"C:\\Users\\dso1222\\Documents\\TextRecognition\\Forms\\BlankClaimCropped.ppm\")\n",
    "for image in os.listdir(f'{path}/ImgOffset'):\n",
    "    filled = cv2.imread(f'{path}/ImgOffset/{image}')\n",
    "    gray = cv2.cvtColor(filled, cv2.COLOR_BGR2GRAY)\n",
    "    gray = 255*(gray < 128).astype(np.uint8)\n",
    "    coords = cv2.findNonZero(gray)\n",
    "    x, y, w, h = cv2.boundingRect(coords)\n",
    "    filled = filled[y:y+h, x:x+w]\n",
    "    filled_resized = cv2.resize(filled, (blank.shape[1], blank.shape[0]))\n",
    "    diff = cv2.absdiff(blank, filled_resized)\n",
    "    cv2.imwrite(f'{path}/ImgSkew/{image}', diff)"
   ]
  },
  {
   "cell_type": "code",
   "execution_count": null,
   "metadata": {},
   "outputs": [],
   "source": []
  },
  {
   "cell_type": "code",
   "execution_count": null,
   "metadata": {},
   "outputs": [],
   "source": []
  },
  {
   "cell_type": "code",
   "execution_count": null,
   "metadata": {},
   "outputs": [],
   "source": []
  },
  {
   "cell_type": "code",
   "execution_count": null,
   "metadata": {},
   "outputs": [],
   "source": []
  }
 ],
 "metadata": {
  "kernelspec": {
   "display_name": "Python 3",
   "language": "python",
   "name": "python3"
  },
  "language_info": {
   "codemirror_mode": {
    "name": "ipython",
    "version": 3
   },
   "file_extension": ".py",
   "mimetype": "text/x-python",
   "name": "python",
   "nbconvert_exporter": "python",
   "pygments_lexer": "ipython3",
   "version": "3.7.4"
  }
 },
 "nbformat": 4,
 "nbformat_minor": 2
}
