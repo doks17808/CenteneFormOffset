{
 "cells": [
  {
   "cell_type": "markdown",
   "metadata": {},
   "source": [
    "#  pdf2image\n"
   ]
  },
  {
   "cell_type": "code",
   "execution_count": null,
   "metadata": {},
   "outputs": [],
   "source": [
    "import os\n",
    "from pdf2image import convert_from_path"
   ]
  },
  {
   "cell_type": "code",
   "execution_count": 2,
   "metadata": {},
   "outputs": [],
   "source": [
    "from pdf2image.exceptions import (\n",
    "    PDFInfoNotInstalledError,\n",
    "    PDFPageCountError,\n",
    "    PDFSyntaxError\n",
    ")"
   ]
  },
  {
   "cell_type": "code",
   "execution_count": 3,
   "metadata": {},
   "outputs": [],
   "source": [
    "path = os.path.abspath(r'C:\\Users\\dso1222\\Documents\\TextRecognition')"
   ]
  },
  {
   "cell_type": "code",
   "execution_count": 4,
   "metadata": {},
   "outputs": [
    {
     "name": "stdout",
     "output_type": "stream",
     "text": [
      "HealthClaim.pdf\n",
      "HealthClaim1.pdf\n",
      "HealthClaim2.pdf\n",
      "HealthClaim3.pdf\n",
      "HealthClaim4.pdf\n",
      "HealthClaim5.pdf\n",
      "HealthClaim6.pdf\n"
     ]
    }
   ],
   "source": [
    "for pdf in os.listdir(f'{path}/PDF'):\n",
    "    print(f'{pdf}')\n",
    "    images = convert_from_path(f'{path}/PDF/{pdf}', output_folder=f'{path}/Img')"
   ]
  },
  {
   "cell_type": "code",
   "execution_count": 4,
   "metadata": {},
   "outputs": [],
   "source": [
    "images = convert_from_path(f'{path}/PDF/BlankClaim.pdf', output_folder=f'{path}/Img')"
   ]
  },
  {
   "cell_type": "markdown",
   "metadata": {},
   "source": [
    "# rotate"
   ]
  },
  {
   "cell_type": "code",
   "execution_count": 19,
   "metadata": {},
   "outputs": [],
   "source": [
    "import cv2\n",
    "import numpy as np\n",
    "import os"
   ]
  },
  {
   "cell_type": "code",
   "execution_count": 20,
   "metadata": {},
   "outputs": [],
   "source": [
    "path = r'C:\\Users\\dso1222\\Documents\\TextRecognition'"
   ]
  },
  {
   "cell_type": "code",
   "execution_count": 21,
   "metadata": {},
   "outputs": [],
   "source": [
    "for image in os.listdir(f'{path}\\Img'):\n",
    "    img = cv2.imread(f'{path}/Img/{image}')\n",
    "    gray_img=cv2.cvtColor(img, cv2.COLOR_BGR2GRAY)\n",
    "    gray_img=cv2.bitwise_not(gray_img)\n",
    "    coordinates = np.column_stack(np.where(gray_img>0))\n",
    "    ang=cv2.minAreaRect(coordinates)[-1]\n",
    "    if ang<-45:\n",
    "        ang=-(90+ang)\n",
    "    h, w = img.shape[:2]\n",
    "    x, y = (w/2, h/2)\n",
    "    rotationMatrix = cv2.getRotationMatrix2D((x,y), ang, 1.0)\n",
    "    rotated_img = cv2.warpAffine(img, rotationMatrix, (w, h), borderMode = cv2.BORDER_REFLECT)\n",
    "    cv2.imwrite(f'{path}/ImgRotated/{image}', rotated_img)"
   ]
  },
  {
   "cell_type": "code",
   "execution_count": 4,
   "metadata": {},
   "outputs": [],
   "source": [
    "# img = cv2.imread(r'C:\\Users\\dso1222\\Documents\\TextRecognition\\Img\\claim78.ppm')\n",
    "# gray_img=cv2.cvtColor(img, cv2.COLOR_BGR2GRAY)\n",
    "# gray_img=cv2.bitwise_not(gray_img)\n",
    "# coordinates = np.column_stack(np.where(gray_img>0))\n",
    "# ang=cv2.minAreaRect(coordinates)[-1]\n"
   ]
  },
  {
   "cell_type": "code",
   "execution_count": 6,
   "metadata": {},
   "outputs": [
    {
     "data": {
      "text/plain": [
       "(2200, 1700, 3)"
      ]
     },
     "execution_count": 6,
     "metadata": {},
     "output_type": "execute_result"
    }
   ],
   "source": [
    "# img.shape"
   ]
  },
  {
   "cell_type": "code",
   "execution_count": 28,
   "metadata": {},
   "outputs": [],
   "source": [
    "# if ang<-45:\n",
    "#     ang=-(90+ang)"
   ]
  },
  {
   "cell_type": "code",
   "execution_count": 27,
   "metadata": {},
   "outputs": [],
   "source": [
    "# height, width = img.shape[:2]\n",
    "# center_img = (width/2, height/2)"
   ]
  },
  {
   "cell_type": "code",
   "execution_count": 32,
   "metadata": {},
   "outputs": [],
   "source": [
    "# rotationMatrix = cv2.getRotationMatrix2D(center_img, ang, 1.0)\n",
    "# rotated_img = cv2.warpAffine(img, rotationMatrix, (width, height), borderMode = cv2.BORDER_REFLECT)"
   ]
  },
  {
   "cell_type": "code",
   "execution_count": 33,
   "metadata": {},
   "outputs": [
    {
     "data": {
      "text/plain": [
       "113"
      ]
     },
     "execution_count": 33,
     "metadata": {},
     "output_type": "execute_result"
    }
   ],
   "source": [
    "# cv2.imshow('Rotate', rotated_img)\n",
    "# cv2.waitKey(0)"
   ]
  },
  {
   "cell_type": "markdown",
   "metadata": {},
   "source": [
    "# Cropping\n"
   ]
  },
  {
   "cell_type": "code",
   "execution_count": 6,
   "metadata": {},
   "outputs": [],
   "source": [
    "import cv2\n",
    "import numpy as np\n",
    "import os"
   ]
  },
  {
   "cell_type": "code",
   "execution_count": 8,
   "metadata": {},
   "outputs": [
    {
     "data": {
      "text/plain": [
       "True"
      ]
     },
     "execution_count": 8,
     "metadata": {},
     "output_type": "execute_result"
    }
   ],
   "source": [
    "blankForm = cv2.imread(r'C:\\Users\\dso1222\\Documents\\TextRecognition\\Img\\BlankClaim.ppm')\n",
    "image = cv2.resize(blankForm, (1625, 2068))\n",
    "gray = cv2.cvtColor(image, cv2.COLOR_BGR2GRAY)\n",
    "gray = 255*(gray < 128).astype(np.uint8)\n",
    "coords = cv2.findNonZero(gray)\n",
    "x, y, w, h = cv2.boundingRect(coords)\n",
    "rect = image[y:y+2002, x:x+1565]\n",
    "# #     # cv2.imshow(\"Cropped\", rect)\n",
    "# #     # cv2.waitKey(0)\n",
    "# #     # cv2.destroyAllWindows()\n",
    "cv2.imwrite(r'C:\\Users\\dso1222\\Documents\\TextRecognition\\BlankClaim.ppm', rect)"
   ]
  },
  {
   "cell_type": "code",
   "execution_count": 29,
   "metadata": {},
   "outputs": [
    {
     "name": "stdout",
     "output_type": "stream",
     "text": [
      "Original Dimensions :  (2003, 1569, 3)\n",
      "Resized Dimensions :  (1930, 1512, 3)\n"
     ]
    }
   ],
   "source": [
    "import cv2\n",
    " \n",
    "img = cv2.imread(r'C:\\Users\\dso1222\\Documents\\TextRecognition\\BlankClaim.ppm', cv2.IMREAD_UNCHANGED)\n",
    " \n",
    "print('Original Dimensions : ',img.shape)\n",
    " \n",
    "scale_percent = 96.4# percent of original size\n",
    "width = int(img.shape[1] * scale_percent / 100)\n",
    "height = int(img.shape[0] * scale_percent / 100)\n",
    "dim = (width, height)\n",
    "# resize image\n",
    "resized = cv2.resize(img, dim, interpolation = cv2.INTER_AREA)\n",
    " \n",
    "print('Resized Dimensions : ',resized.shape)"
   ]
  },
  {
   "cell_type": "code",
   "execution_count": 28,
   "metadata": {},
   "outputs": [
    {
     "data": {
      "text/plain": [
       "True"
      ]
     },
     "execution_count": 28,
     "metadata": {},
     "output_type": "execute_result"
    }
   ],
   "source": [
    "# image = cv2.resize(blankForm, (1625, 2068))\n",
    "gray = cv2.cvtColor(resized, cv2.COLOR_BGR2GRAY)\n",
    "gray = 255*(gray < 128).astype(np.uint8)\n",
    "coords = cv2.findNonZero(gray)\n",
    "x, y, w, h = cv2.boundingRect(coords)\n",
    "rect = resized[y:y+2003, x:x+1569]\n",
    "# #     # cv2.imshow(\"Cropped\", rect)\n",
    "# #     # cv2.waitKey(0)\n",
    "# #     # cv2.destroyAllWindows()\n",
    "cv2.imwrite(r'C:\\Users\\dso1222\\Documents\\TextRecognition\\BlankClaim.ppm', rect)"
   ]
  },
  {
   "cell_type": "code",
   "execution_count": 18,
   "metadata": {},
   "outputs": [],
   "source": [
    "path = os.path.abspath(r'C:\\Users\\dso1222\\Documents\\TextRecognition')"
   ]
  },
  {
   "cell_type": "code",
   "execution_count": 30,
   "metadata": {},
   "outputs": [],
   "source": [
    "width = 0\n",
    "height = 0\n",
    "imdict = {}\n",
    "for image in os.listdir(f'{path}/ImgRotated'):\n",
    "    img = cv2.imread(f'{path}/ImgRotated/{image}')\n",
    "    gray = cv2.cvtColor(img, cv2.COLOR_BGR2GRAY)\n",
    "    gray = 255*(gray < 128).astype(np.uint8)\n",
    "    coords = cv2.findNonZero(gray)\n",
    "    x, y, w, h = cv2.boundingRect(coords)\n",
    "    width += w\n",
    "    height += h\n",
    "    imdict[image] = {'x':f'{x}', 'y':f'{y}', 'w':f'{w}', 'h':f'{h}',}\n",
    "#     rect = img[y:y+h, x:x+w]\n",
    "    rect = img[y:y+2003, x:x+1569]\n",
    "# #     # cv2.imshow(\"Cropped\", rect)\n",
    "# #     # cv2.waitKey(0)\n",
    "# #     # cv2.destroyAllWindows()\n",
    "    cv2.imwrite(f'{path}/ImgRotatedCropped/{image}', rect)"
   ]
  },
  {
   "cell_type": "code",
   "execution_count": 24,
   "metadata": {},
   "outputs": [
    {
     "name": "stdout",
     "output_type": "stream",
     "text": [
      "1568.525\n"
     ]
    }
   ],
   "source": [
    "print(width/80)"
   ]
  },
  {
   "cell_type": "code",
   "execution_count": null,
   "metadata": {},
   "outputs": [],
   "source": [
    "cv2.imshow('gray',gray_enhanced)\n",
    "cv2.waitKey(0)"
   ]
  },
  {
   "cell_type": "code",
   "execution_count": 5,
   "metadata": {},
   "outputs": [
    {
     "name": "stdout",
     "output_type": "stream",
     "text": [
      "{'BlankClaim.ppm': {'h': '2134', 'w': '1640', 'x': '29', 'y': '44'},\n",
      " 'claim0.ppm': {'h': '2005', 'w': '1563', 'x': '56', 'y': '72'},\n",
      " 'claim1.ppm': {'h': '2004', 'w': '1562', 'x': '57', 'y': '75'},\n",
      " 'claim10.ppm': {'h': '2003', 'w': '1560', 'x': '56', 'y': '90'},\n",
      " 'claim11.ppm': {'h': '2003', 'w': '1561', 'x': '59', 'y': '87'},\n",
      " 'claim12.ppm': {'h': '1983', 'w': '1537', 'x': '82', 'y': '77'},\n",
      " 'claim13.ppm': {'h': '2004', 'w': '1564', 'x': '58', 'y': '89'},\n",
      " 'claim14.ppm': {'h': '2004', 'w': '1564', 'x': '58', 'y': '87'},\n",
      " 'claim15.ppm': {'h': '2004', 'w': '1568', 'x': '56', 'y': '86'},\n",
      " 'claim16.ppm': {'h': '2004', 'w': '1570', 'x': '57', 'y': '86'},\n",
      " 'claim17.ppm': {'h': '2003', 'w': '1565', 'x': '60', 'y': '88'},\n",
      " 'claim18.ppm': {'h': '2003', 'w': '1563', 'x': '56', 'y': '88'},\n",
      " 'claim19.ppm': {'h': '2003', 'w': '1561', 'x': '58', 'y': '86'},\n",
      " 'claim2.ppm': {'h': '2005', 'w': '1564', 'x': '56', 'y': '72'},\n",
      " 'claim20.ppm': {'h': '2001', 'w': '1570', 'x': '58', 'y': '98'},\n",
      " 'claim21.ppm': {'h': '2000', 'w': '1569', 'x': '61', 'y': '101'},\n",
      " 'claim22.ppm': {'h': '2003', 'w': '1569', 'x': '61', 'y': '82'},\n",
      " 'claim23.ppm': {'h': '2005', 'w': '1563', 'x': '58', 'y': '77'},\n",
      " 'claim24.ppm': {'h': '2003', 'w': '1566', 'x': '58', 'y': '84'},\n",
      " 'claim25.ppm': {'h': '1984', 'w': '1540', 'x': '82', 'y': '83'},\n",
      " 'claim26.ppm': {'h': '1983', 'w': '1537', 'x': '84', 'y': '82'},\n",
      " 'claim27.ppm': {'h': '2004', 'w': '1566', 'x': '58', 'y': '87'},\n",
      " 'claim28.ppm': {'h': '1986', 'w': '1561', 'x': '62', 'y': '84'},\n",
      " 'claim29.ppm': {'h': '2003', 'w': '1564', 'x': '60', 'y': '84'},\n",
      " 'claim3.ppm': {'h': '2006', 'w': '1566', 'x': '57', 'y': '69'},\n",
      " 'claim30.ppm': {'h': '2002', 'w': '1539', 'x': '82', 'y': '88'},\n",
      " 'claim31.ppm': {'h': '2004', 'w': '1570', 'x': '59', 'y': '93'},\n",
      " 'claim32.ppm': {'h': '2004', 'w': '1565', 'x': '56', 'y': '92'},\n",
      " 'claim33.ppm': {'h': '2003', 'w': '1562', 'x': '57', 'y': '91'},\n",
      " 'claim34.ppm': {'h': '2001', 'w': '1563', 'x': '58', 'y': '76'},\n",
      " 'claim35.ppm': {'h': '2003', 'w': '1560', 'x': '57', 'y': '92'},\n",
      " 'claim36.ppm': {'h': '2010', 'w': '1564', 'x': '58', 'y': '161'},\n",
      " 'claim37.ppm': {'h': '2005', 'w': '1563', 'x': '59', 'y': '159'},\n",
      " 'claim38.ppm': {'h': '2005', 'w': '1562', 'x': '59', 'y': '159'},\n",
      " 'claim39.ppm': {'h': '2005', 'w': '1563', 'x': '57', 'y': '159'},\n",
      " 'claim4.ppm': {'h': '2004', 'w': '1560', 'x': '60', 'y': '81'},\n",
      " 'claim40.ppm': {'h': '2005', 'w': '1566', 'x': '59', 'y': '162'},\n",
      " 'claim41.ppm': {'h': '2003', 'w': '1561', 'x': '59', 'y': '86'},\n",
      " 'claim42.ppm': {'h': '2005', 'w': '1566', 'x': '58', 'y': '161'},\n",
      " 'claim43.ppm': {'h': '2004', 'w': '1571', 'x': '60', 'y': '163'},\n",
      " 'claim44.ppm': {'h': '2007', 'w': '1568', 'x': '57', 'y': '163'},\n",
      " 'claim45.ppm': {'h': '2006', 'w': '1603', 'x': '23', 'y': '66'},\n",
      " 'claim46.ppm': {'h': '2004', 'w': '1562', 'x': '58', 'y': '165'},\n",
      " 'claim47.ppm': {'h': '2005', 'w': '1565', 'x': '58', 'y': '163'},\n",
      " 'claim48.ppm': {'h': '2001', 'w': '1564', 'x': '61', 'y': '174'},\n",
      " 'claim49.ppm': {'h': '1988', 'w': '1544', 'x': '84', 'y': '74'},\n",
      " 'claim5.ppm': {'h': '2004', 'w': '1563', 'x': '59', 'y': '84'},\n",
      " 'claim50.ppm': {'h': '1989', 'w': '1541', 'x': '82', 'y': '73'},\n",
      " 'claim51.ppm': {'h': '1992', 'w': '1541', 'x': '82', 'y': '74'},\n",
      " 'claim52.ppm': {'h': '1982', 'w': '1535', 'x': '82', 'y': '86'},\n",
      " 'claim53.ppm': {'h': '2002', 'w': '1564', 'x': '57', 'y': '89'},\n",
      " 'claim54.ppm': {'h': '1987', 'w': '1537', 'x': '86', 'y': '80'},\n",
      " 'claim55.ppm': {'h': '1981', 'w': '1542', 'x': '80', 'y': '85'},\n",
      " 'claim56.ppm': {'h': '2002', 'w': '1563', 'x': '58', 'y': '80'},\n",
      " 'claim57.ppm': {'h': '1981', 'w': '1542', 'x': '80', 'y': '92'},\n",
      " 'claim58.ppm': {'h': '2004', 'w': '1564', 'x': '58', 'y': '89'},\n",
      " 'claim59.ppm': {'h': '2004', 'w': '1563', 'x': '58', 'y': '90'},\n",
      " 'claim6.ppm': {'h': '2003', 'w': '1562', 'x': '58', 'y': '84'},\n",
      " 'claim60.ppm': {'h': '2002', 'w': '1560', 'x': '60', 'y': '92'},\n",
      " 'claim61.ppm': {'h': '2002', 'w': '1566', 'x': '60', 'y': '88'},\n",
      " 'claim62.ppm': {'h': '2002', 'w': '1564', 'x': '61', 'y': '86'},\n",
      " 'claim63.ppm': {'h': '2003', 'w': '1563', 'x': '59', 'y': '87'},\n",
      " 'claim64.ppm': {'h': '1731', 'w': '1533', 'x': '86', 'y': '109'},\n",
      " 'claim65.ppm': {'h': '2002', 'w': '1597', 'x': '59', 'y': '112'},\n",
      " 'claim66.ppm': {'h': '2001', 'w': '1570', 'x': '59', 'y': '112'},\n",
      " 'claim67.ppm': {'h': '2004', 'w': '1563', 'x': '56', 'y': '76'},\n",
      " 'claim68.ppm': {'h': '1982', 'w': '1562', 'x': '62', 'y': '90'},\n",
      " 'claim69.ppm': {'h': '1993', 'w': '1544', 'x': '82', 'y': '85'},\n",
      " 'claim7.ppm': {'h': '2004', 'w': '1567', 'x': '57', 'y': '86'},\n",
      " 'claim70.ppm': {'h': '1981', 'w': '1559', 'x': '61', 'y': '91'},\n",
      " 'claim71.ppm': {'h': '1983', 'w': '1536', 'x': '82', 'y': '87'},\n",
      " 'claim72.ppm': {'h': '2000', 'w': '1560', 'x': '60', 'y': '89'},\n",
      " 'claim73.ppm': {'h': '1989', 'w': '1540', 'x': '86', 'y': '83'},\n",
      " 'claim74.ppm': {'h': '1985', 'w': '1541', 'x': '84', 'y': '85'},\n",
      " 'claim75.ppm': {'h': '1984', 'w': '1539', 'x': '82', 'y': '85'},\n",
      " 'claim76.ppm': {'h': '1987', 'w': '1538', 'x': '83', 'y': '83'},\n",
      " 'claim77.ppm': {'h': '2019', 'w': '1562', 'x': '55', 'y': '55'},\n",
      " 'claim78.ppm': {'h': '2036', 'w': '1569', 'x': '59', 'y': '72'},\n",
      " 'claim8.ppm': {'h': '2003', 'w': '1564', 'x': '55', 'y': '85'},\n",
      " 'claim9.ppm': {'h': '2001', 'w': '1566', 'x': '59', 'y': '90'}}\n"
     ]
    }
   ],
   "source": [
    "import pprint\n",
    "pprint.pprint(imdict)\n",
    "cv2.imshow"
   ]
  },
  {
   "cell_type": "code",
   "execution_count": 39,
   "metadata": {},
   "outputs": [
    {
     "data": {
      "text/plain": [
       "(2200, 1700, 3)"
      ]
     },
     "execution_count": 39,
     "metadata": {},
     "output_type": "execute_result"
    }
   ],
   "source": [
    "img = cv2.imread(r'C:\\Users\\dso1222\\Documents\\TextRecognition\\Img\\BlankClaim.ppm')\n",
    "img.shape"
   ]
  },
  {
   "cell_type": "code",
   "execution_count": 40,
   "metadata": {},
   "outputs": [
    {
     "data": {
      "text/plain": [
       "(2200, 1700, 3)"
      ]
     },
     "execution_count": 40,
     "metadata": {},
     "output_type": "execute_result"
    }
   ],
   "source": [
    "img = cv2.imread(r'C:\\Users\\dso1222\\Documents\\TextRecognition\\Img\\claim0.ppm')\n",
    "img.shape"
   ]
  },
  {
   "cell_type": "code",
   "execution_count": 41,
   "metadata": {},
   "outputs": [
    {
     "data": {
      "text/plain": [
       "(2200, 1700, 3)"
      ]
     },
     "execution_count": 41,
     "metadata": {},
     "output_type": "execute_result"
    }
   ],
   "source": [
    "img = cv2.imread(r'C:\\Users\\dso1222\\Documents\\TextRecognition\\Img\\claim50.ppm')\n",
    "img.shape"
   ]
  },
  {
   "cell_type": "code",
   "execution_count": 38,
   "metadata": {},
   "outputs": [
    {
     "data": {
      "text/plain": [
       "True"
      ]
     },
     "execution_count": 38,
     "metadata": {},
     "output_type": "execute_result"
    }
   ],
   "source": [
    "img = cv2.imread(r'C:\\Users\\dso1222\\Documents\\TextRecognition\\Img\\BlankClaim.ppm')\n",
    "gray = cv2.cvtColor(img, cv2.COLOR_BGR2GRAY)\n",
    "gray = 255*(gray < 128).astype(np.uint8)\n",
    "coords = cv2.findNonZero(gray)\n",
    "x, y, w, h = cv2.boundingRect(coords)\n",
    "imdict[image] = {'x':f'{x}', 'y':f'{y}', 'w':f'{w}', 'h':f'{h}',}\n",
    "#     x-coord += x\n",
    "#     y-coord += y\n",
    "#     width += w\n",
    "#     height += h\n",
    "rect = img[y:y+2002, x:x+1565]\n",
    "#     # cv2.imshow(\"Cropped\", rect)\n",
    "#     # cv2.waitKey(0)\n",
    "#     # cv2.destroyAllWindows()\n",
    "cv2.imwrite(r'C:\\Users\\dso1222\\Documents\\TextRecognition\\BlankClaim.ppm', rect)"
   ]
  },
  {
   "cell_type": "markdown",
   "metadata": {},
   "source": [
    "# Unknown_Contour Rectangles"
   ]
  },
  {
   "cell_type": "code",
   "execution_count": 27,
   "metadata": {},
   "outputs": [],
   "source": [
    "# import numpy as np\n",
    "# import cv2 "
   ]
  },
  {
   "cell_type": "code",
   "execution_count": 28,
   "metadata": {},
   "outputs": [],
   "source": [
    "# img = cv2.imread(r'C:\\Users\\dso1222\\Documents\\TextRecognition\\Img\\claim0.ppm',0)\n",
    "# ret,thresh = cv2.threshold(img,127,255,0)\n",
    "# im2,contours,hierarchy = cv2.findContours(thresh, 1, 2)\n",
    "# cnt = contours[0]"
   ]
  },
  {
   "cell_type": "code",
   "execution_count": 29,
   "metadata": {},
   "outputs": [],
   "source": [
    "# x,y,w,h = cv2.boundingRect(cnt)\n",
    "# cv2.rectangle(img,(x,y),(x+w,y+h),(0,255,0),2)\n",
    "# rect = cv2.minAreaRect(cnt)\n",
    "# box = cv2.boxPoints(rect)\n",
    "# # box = np.int0(box)\n",
    "# # test =cv2.drawContours(img,[box],0,(0,0,255),2)\n",
    "# # cv2.imshow('test',test)\n",
    "# # cv2.waitKey(0)\n",
    "# # cv2.destroyAllWindows"
   ]
  },
  {
   "cell_type": "code",
   "execution_count": 30,
   "metadata": {},
   "outputs": [],
   "source": [
    "# print(box)"
   ]
  },
  {
   "cell_type": "code",
   "execution_count": null,
   "metadata": {},
   "outputs": [],
   "source": []
  }
 ],
 "metadata": {
  "kernelspec": {
   "display_name": "Python 3",
   "language": "python",
   "name": "python3"
  },
  "language_info": {
   "codemirror_mode": {
    "name": "ipython",
    "version": 3
   },
   "file_extension": ".py",
   "mimetype": "text/x-python",
   "name": "python",
   "nbconvert_exporter": "python",
   "pygments_lexer": "ipython3",
   "version": "3.7.4"
  }
 },
 "nbformat": 4,
 "nbformat_minor": 2
}
