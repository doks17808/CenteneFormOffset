{
 "cells": [
  {
   "cell_type": "code",
   "execution_count": 1,
   "metadata": {},
   "outputs": [],
   "source": [
    "import cv2\n",
    "import os\n",
    "import numpy as np"
   ]
  },
  {
   "cell_type": "code",
   "execution_count": 2,
   "metadata": {},
   "outputs": [],
   "source": [
    "image_path = os.path.abspath(r'C:\\Users\\dso1222\\Documents\\TextRecognition\\Img')"
   ]
  },
  {
   "cell_type": "code",
   "execution_count": 3,
   "metadata": {},
   "outputs": [
    {
     "name": "stdout",
     "output_type": "stream",
     "text": [
      "[[[  0 142 255]]]\n"
     ]
    }
   ],
   "source": [
    "red = np.uint8([[[113,113,255]]])\n",
    "hsv_red = cv2.cvtColor(red, cv2.COLOR_BGR2HSV)\n",
    "print(hsv_red)"
   ]
  },
  {
   "cell_type": "code",
   "execution_count": null,
   "metadata": {},
   "outputs": [],
   "source": [
    "for img in os.listdir(image_path):\n",
    "    image = cv2.imread(f'{image_path}/{img}')\n",
    "    hsv = cv2.cvtColor(image, cv2.COLOR_BGR2HSV)\n",
    "    \n",
    "    lower_red = np.array([0,120,200])\n",
    "    upper_red = np.array([10,162,255])\n",
    "    \n",
    "    mask = cv2.inRange(hsv, lower_red, upper_red)\n",
    "    res = cv2.bitwise_and(image,image, mask= mask)\n",
    "\n",
    "\n",
    "    cv2.imshow('image', image)\n",
    "    cv2.imshow('mask', mask)\n",
    "    cv2.imshow('res', res)\n",
    "\n",
    "    \n",
    "    # Press any key to close the image\n",
    "    cv2.waitKey(0)\n",
    "\n",
    "cv2.destroyAllWindows()"
   ]
  },
  {
   "cell_type": "code",
   "execution_count": 5,
   "metadata": {},
   "outputs": [],
   "source": [
    "image = cv2.imread(f'{image_path}/claim0.ppm')\n",
    "hsv = cv2.cvtColor(image, cv2.COLOR_BGR2HSV)\n",
    "\n",
    "\n",
    "\n",
    "lower_red = np.array([0,100,155])\n",
    "upper_red = np.array([150,200,255])\n",
    "\n",
    "mask = cv2.inRange(hsv, lower_red, upper_red)\n",
    "res = cv2.bitwise_and(image,image, mask= mask)\n",
    "\n",
    "lowest = np.array([0,50,75])\n",
    "highest = np.array([150,255,255])\n",
    "\n",
    "mask2 = cv2.inRange(hsv, lowest, highest)\n",
    "res2 = cv2.bitwise_and(image,image, mask= mask2)\n",
    "\n",
    "# cv2.imshow('image', image)\n",
    "# cv2.imshow('mask', mask)\n",
    "cv2.imshow('res', res)\n",
    "cv2.imshow('res2', res2)\n",
    "# cv2.imshow('mask', mask)\n",
    "# cv2.imshow('mask2', mask2)\n",
    "\n",
    "\n",
    "# Press any key to close the image\n",
    "cv2.waitKey(0)\n",
    "cv2.destroyAllWindows()"
   ]
  },
  {
   "cell_type": "code",
   "execution_count": null,
   "metadata": {},
   "outputs": [],
   "source": []
  }
 ],
 "metadata": {
  "kernelspec": {
   "display_name": "Python [conda env:tensorflow_cpu] *",
   "language": "python",
   "name": "conda-env-tensorflow_cpu-py"
  },
  "language_info": {
   "codemirror_mode": {
    "name": "ipython",
    "version": 3
   },
   "file_extension": ".py",
   "mimetype": "text/x-python",
   "name": "python",
   "nbconvert_exporter": "python",
   "pygments_lexer": "ipython3",
   "version": "3.6.9"
  }
 },
 "nbformat": 4,
 "nbformat_minor": 2
}
