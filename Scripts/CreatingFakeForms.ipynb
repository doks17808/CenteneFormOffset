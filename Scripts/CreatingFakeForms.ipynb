{
 "cells": [
  {
   "cell_type": "code",
   "execution_count": 1,
   "metadata": {},
   "outputs": [],
   "source": [
    "import cv2\n",
    "import os\n",
    "import numpy as np\n",
    "import pandas as pd\n",
    "from random import randint\n",
    "import matplotlib.pyplot as plt"
   ]
  },
  {
   "cell_type": "code",
   "execution_count": 2,
   "metadata": {},
   "outputs": [],
   "source": [
    "path = r'C:\\Users\\dso1222\\Documents\\TextRecognition\\Forms'"
   ]
  },
  {
   "cell_type": "code",
   "execution_count": 7,
   "metadata": {},
   "outputs": [],
   "source": [
    "x = 0\n",
    "for image in os.listdir(f'{path}/Img'):\n",
    "    for replicate in range(10):\n",
    "        img = cv2.imread(f'{path}/Img/{image}')\n",
    "        gray = cv2.cvtColor(img, cv2.COLOR_BGR2GRAY)\n",
    "        # gray = 255*(gray < 128).astype(np.uint8)\n",
    "        glist = gray.tolist()\n",
    "        for place in range(randint(1,3)):\n",
    "            ind = randint(0,int(len(glist) - 1))\n",
    "            for counter in range(randint(2,12)):\n",
    "                glist.insert(ind, glist[ind+1])\n",
    "        stretch = np.asarray(glist)\n",
    "        x += 1\n",
    "        cv2.imwrite(f'{path}/ImgOffset/claim{x}.jpg', stretch)"
   ]
  },
  {
   "cell_type": "code",
   "execution_count": 5,
   "metadata": {},
   "outputs": [
    {
     "name": "stdout",
     "output_type": "stream",
     "text": [
      "0\n"
     ]
    }
   ],
   "source": [
    "print(x)"
   ]
  },
  {
   "cell_type": "markdown",
   "metadata": {},
   "source": [
    "# Testing for single image"
   ]
  },
  {
   "cell_type": "code",
   "execution_count": 14,
   "metadata": {},
   "outputs": [],
   "source": [
    "img = cv2.imread(r'C:\\Users\\dso1222\\Documents\\TextRecognition\\Img\\claim76.ppm')\n",
    "gray = cv2.cvtColor(img, cv2.COLOR_BGR2GRAY)\n",
    "# gray = 255*(gray < 128).astype(np.uint8)\n",
    "glist = gray.tolist()\n",
    "ind = randint(0,int(len(glist)))\n",
    "blackline = [255]*gray.shape[1]\n",
    "counter = 0\n",
    "for x in range(randint(20,200)):\n",
    "    glist.insert(ind, glist[ind])\n",
    "stretch = np.asarray(glist)"
   ]
  },
  {
   "cell_type": "code",
   "execution_count": 15,
   "metadata": {},
   "outputs": [],
   "source": [
    "cv2.namedWindow('grey', cv2.WINDOW_NORMAL)\n",
    "cv2.resizeWindow('grey', 700, 1000)\n",
    "cv2.imshow('grey',np.uint8(stretch))\n",
    "cv2.waitKey(0)\n",
    "cv2.destroyAllWindows()"
   ]
  }
 ],
 "metadata": {
  "kernelspec": {
   "display_name": "Python 3",
   "language": "python",
   "name": "python3"
  },
  "language_info": {
   "codemirror_mode": {
    "name": "ipython",
    "version": 3
   },
   "file_extension": ".py",
   "mimetype": "text/x-python",
   "name": "python",
   "nbconvert_exporter": "python",
   "pygments_lexer": "ipython3",
   "version": "3.6.9"
  }
 },
 "nbformat": 4,
 "nbformat_minor": 2
}
