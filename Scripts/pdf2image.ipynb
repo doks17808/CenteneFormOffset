{
 "cells": [
  {
   "cell_type": "markdown",
   "metadata": {},
   "source": [
    "#  pdf2image\n"
   ]
  },
  {
   "cell_type": "code",
   "execution_count": null,
   "metadata": {},
   "outputs": [],
   "source": [
    "import os\n",
    "from pdf2image import convert_from_path"
   ]
  },
  {
   "cell_type": "code",
   "execution_count": 2,
   "metadata": {},
   "outputs": [],
   "source": [
    "from pdf2image.exceptions import (\n",
    "    PDFInfoNotInstalledError,\n",
    "    PDFPageCountError,\n",
    "    PDFSyntaxError\n",
    ")"
   ]
  },
  {
   "cell_type": "code",
   "execution_count": 3,
   "metadata": {},
   "outputs": [],
   "source": [
    "path = os.path.abspath(r'C:\\Users\\dso1222\\Documents\\TextRecognition')"
   ]
  },
  {
   "cell_type": "code",
   "execution_count": 4,
   "metadata": {},
   "outputs": [
    {
     "name": "stdout",
     "output_type": "stream",
     "text": [
      "HealthClaim.pdf\n",
      "HealthClaim1.pdf\n",
      "HealthClaim2.pdf\n",
      "HealthClaim3.pdf\n",
      "HealthClaim4.pdf\n",
      "HealthClaim5.pdf\n",
      "HealthClaim6.pdf\n"
     ]
    }
   ],
   "source": [
    "for pdf in os.listdir(f'{path}/PDF'):\n",
    "    print(f'{pdf}')\n",
    "    images = convert_from_path(f'{path}/PDF/{pdf}', output_folder=f'{path}/Img')"
   ]
  },
  {
   "cell_type": "code",
   "execution_count": 4,
   "metadata": {},
   "outputs": [],
   "source": [
    "images = convert_from_path(f'{path}/PDF/BlankClaim.pdf', output_folder=f'{path}/Img')"
   ]
  },
  {
   "cell_type": "code",
   "execution_count": null,
   "metadata": {},
   "outputs": [],
   "source": []
  }
 ],
 "metadata": {
  "kernelspec": {
   "display_name": "Python 3",
   "language": "python",
   "name": "python3"
  },
  "language_info": {
   "codemirror_mode": {
    "name": "ipython",
    "version": 3
   },
   "file_extension": ".py",
   "mimetype": "text/x-python",
   "name": "python",
   "nbconvert_exporter": "python",
   "pygments_lexer": "ipython3",
   "version": "3.7.4"
  }
 },
 "nbformat": 4,
 "nbformat_minor": 2
}
